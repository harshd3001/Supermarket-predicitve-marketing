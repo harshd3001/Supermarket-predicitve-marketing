{
 "cells": [
  {
   "cell_type": "markdown",
   "id": "0f66d8d1",
   "metadata": {},
   "source": [
    "# Problem Statement:\n",
    "\n",
    "A Supermarket company wants to increase their revenue by targeting potential customers who are likely to respond to their advertising campaigns. They have a large dataset containing customer purchase history. The company wants a marketing strategy to identify customers who are most likely to respond to their campaigns. The goal of the project is to identify the customers behavior and formulate a strategy to maximize the profits of the supermarket. This will allow the company to target their marketing efforts more effectively and maximize their return on investment."
   ]
  },
  {
   "cell_type": "code",
   "execution_count": 2,
   "id": "c2d23870",
   "metadata": {},
   "outputs": [],
   "source": [
    "# dataset: C:\\Users\\Harsh\\Desktop\\data science projects\\predictive marketing"
   ]
  },
  {
   "cell_type": "markdown",
   "id": "401e1f97",
   "metadata": {},
   "source": [
    "# Data Collection\n"
   ]
  },
  {
   "cell_type": "code",
   "execution_count": 3,
   "id": "ca8792c9",
   "metadata": {},
   "outputs": [],
   "source": [
    "import pandas as pd\n",
    "import numpy as np\n",
    "import matplotlib.pyplot as plt\n",
    "import seaborn as sns\n",
    "\n",
    "plt.style.use('ggplot')\n",
    "%matplotlib inline"
   ]
  },
  {
   "cell_type": "code",
   "execution_count": 4,
   "id": "b8ce295f",
   "metadata": {},
   "outputs": [
    {
     "data": {
      "text/html": [
       "<div>\n",
       "<style scoped>\n",
       "    .dataframe tbody tr th:only-of-type {\n",
       "        vertical-align: middle;\n",
       "    }\n",
       "\n",
       "    .dataframe tbody tr th {\n",
       "        vertical-align: top;\n",
       "    }\n",
       "\n",
       "    .dataframe thead th {\n",
       "        text-align: right;\n",
       "    }\n",
       "</style>\n",
       "<table border=\"1\" class=\"dataframe\">\n",
       "  <thead>\n",
       "    <tr style=\"text-align: right;\">\n",
       "      <th></th>\n",
       "      <th>order_id</th>\n",
       "      <th>user_id</th>\n",
       "      <th>order_number</th>\n",
       "      <th>order_dow</th>\n",
       "      <th>order_hour_of_day</th>\n",
       "      <th>days_since_prior_order</th>\n",
       "      <th>product_id</th>\n",
       "      <th>add_to_cart_order</th>\n",
       "      <th>reordered</th>\n",
       "      <th>department_id</th>\n",
       "      <th>department</th>\n",
       "      <th>product_name</th>\n",
       "    </tr>\n",
       "  </thead>\n",
       "  <tbody>\n",
       "    <tr>\n",
       "      <th>0</th>\n",
       "      <td>2425083</td>\n",
       "      <td>49125</td>\n",
       "      <td>1</td>\n",
       "      <td>2</td>\n",
       "      <td>18</td>\n",
       "      <td>NaN</td>\n",
       "      <td>17</td>\n",
       "      <td>1</td>\n",
       "      <td>0</td>\n",
       "      <td>13</td>\n",
       "      <td>pantry</td>\n",
       "      <td>baking ingredients</td>\n",
       "    </tr>\n",
       "    <tr>\n",
       "      <th>1</th>\n",
       "      <td>2425083</td>\n",
       "      <td>49125</td>\n",
       "      <td>1</td>\n",
       "      <td>2</td>\n",
       "      <td>18</td>\n",
       "      <td>NaN</td>\n",
       "      <td>91</td>\n",
       "      <td>2</td>\n",
       "      <td>0</td>\n",
       "      <td>16</td>\n",
       "      <td>dairy eggs</td>\n",
       "      <td>soy lactosefree</td>\n",
       "    </tr>\n",
       "    <tr>\n",
       "      <th>2</th>\n",
       "      <td>2425083</td>\n",
       "      <td>49125</td>\n",
       "      <td>1</td>\n",
       "      <td>2</td>\n",
       "      <td>18</td>\n",
       "      <td>NaN</td>\n",
       "      <td>36</td>\n",
       "      <td>3</td>\n",
       "      <td>0</td>\n",
       "      <td>16</td>\n",
       "      <td>dairy eggs</td>\n",
       "      <td>butter</td>\n",
       "    </tr>\n",
       "    <tr>\n",
       "      <th>3</th>\n",
       "      <td>2425083</td>\n",
       "      <td>49125</td>\n",
       "      <td>1</td>\n",
       "      <td>2</td>\n",
       "      <td>18</td>\n",
       "      <td>NaN</td>\n",
       "      <td>83</td>\n",
       "      <td>4</td>\n",
       "      <td>0</td>\n",
       "      <td>4</td>\n",
       "      <td>produce</td>\n",
       "      <td>fresh vegetables</td>\n",
       "    </tr>\n",
       "    <tr>\n",
       "      <th>4</th>\n",
       "      <td>2425083</td>\n",
       "      <td>49125</td>\n",
       "      <td>1</td>\n",
       "      <td>2</td>\n",
       "      <td>18</td>\n",
       "      <td>NaN</td>\n",
       "      <td>83</td>\n",
       "      <td>5</td>\n",
       "      <td>0</td>\n",
       "      <td>4</td>\n",
       "      <td>produce</td>\n",
       "      <td>fresh vegetables</td>\n",
       "    </tr>\n",
       "  </tbody>\n",
       "</table>\n",
       "</div>"
      ],
      "text/plain": [
       "   order_id  user_id  order_number  order_dow  order_hour_of_day  \\\n",
       "0   2425083    49125             1          2                 18   \n",
       "1   2425083    49125             1          2                 18   \n",
       "2   2425083    49125             1          2                 18   \n",
       "3   2425083    49125             1          2                 18   \n",
       "4   2425083    49125             1          2                 18   \n",
       "\n",
       "   days_since_prior_order  product_id  add_to_cart_order  reordered  \\\n",
       "0                     NaN          17                  1          0   \n",
       "1                     NaN          91                  2          0   \n",
       "2                     NaN          36                  3          0   \n",
       "3                     NaN          83                  4          0   \n",
       "4                     NaN          83                  5          0   \n",
       "\n",
       "   department_id  department        product_name  \n",
       "0             13      pantry  baking ingredients  \n",
       "1             16  dairy eggs     soy lactosefree  \n",
       "2             16  dairy eggs              butter  \n",
       "3              4     produce    fresh vegetables  \n",
       "4              4     produce    fresh vegetables  "
      ]
     },
     "execution_count": 4,
     "metadata": {},
     "output_type": "execute_result"
    }
   ],
   "source": [
    "df=pd.read_csv('ECommerce_consumer behaviour.csv')\n",
    "df.head()"
   ]
  },
  {
   "cell_type": "code",
   "execution_count": 5,
   "id": "0aa8a890",
   "metadata": {},
   "outputs": [
    {
     "name": "stdout",
     "output_type": "stream",
     "text": [
      "<class 'pandas.core.frame.DataFrame'>\n",
      "RangeIndex: 2019501 entries, 0 to 2019500\n",
      "Data columns (total 12 columns):\n",
      " #   Column                  Dtype  \n",
      "---  ------                  -----  \n",
      " 0   order_id                int64  \n",
      " 1   user_id                 int64  \n",
      " 2   order_number            int64  \n",
      " 3   order_dow               int64  \n",
      " 4   order_hour_of_day       int64  \n",
      " 5   days_since_prior_order  float64\n",
      " 6   product_id              int64  \n",
      " 7   add_to_cart_order       int64  \n",
      " 8   reordered               int64  \n",
      " 9   department_id           int64  \n",
      " 10  department              object \n",
      " 11  product_name            object \n",
      "dtypes: float64(1), int64(9), object(2)\n",
      "memory usage: 184.9+ MB\n"
     ]
    }
   ],
   "source": [
    "df.info()"
   ]
  },
  {
   "cell_type": "code",
   "execution_count": 6,
   "id": "30c46de8",
   "metadata": {},
   "outputs": [
    {
     "data": {
      "text/html": [
       "<div>\n",
       "<style scoped>\n",
       "    .dataframe tbody tr th:only-of-type {\n",
       "        vertical-align: middle;\n",
       "    }\n",
       "\n",
       "    .dataframe tbody tr th {\n",
       "        vertical-align: top;\n",
       "    }\n",
       "\n",
       "    .dataframe thead th {\n",
       "        text-align: right;\n",
       "    }\n",
       "</style>\n",
       "<table border=\"1\" class=\"dataframe\">\n",
       "  <thead>\n",
       "    <tr style=\"text-align: right;\">\n",
       "      <th></th>\n",
       "      <th>order_id</th>\n",
       "      <th>user_id</th>\n",
       "      <th>order_number</th>\n",
       "      <th>order_dow</th>\n",
       "      <th>order_hour_of_day</th>\n",
       "      <th>days_since_prior_order</th>\n",
       "      <th>product_id</th>\n",
       "      <th>add_to_cart_order</th>\n",
       "      <th>reordered</th>\n",
       "      <th>department_id</th>\n",
       "    </tr>\n",
       "  </thead>\n",
       "  <tbody>\n",
       "    <tr>\n",
       "      <th>count</th>\n",
       "      <td>2.019501e+06</td>\n",
       "      <td>2.019501e+06</td>\n",
       "      <td>2.019501e+06</td>\n",
       "      <td>2.019501e+06</td>\n",
       "      <td>2.019501e+06</td>\n",
       "      <td>1.895159e+06</td>\n",
       "      <td>2.019501e+06</td>\n",
       "      <td>2.019501e+06</td>\n",
       "      <td>2.019501e+06</td>\n",
       "      <td>2.019501e+06</td>\n",
       "    </tr>\n",
       "    <tr>\n",
       "      <th>mean</th>\n",
       "      <td>1.707013e+06</td>\n",
       "      <td>1.030673e+05</td>\n",
       "      <td>1.715138e+01</td>\n",
       "      <td>2.735367e+00</td>\n",
       "      <td>1.343948e+01</td>\n",
       "      <td>1.138603e+01</td>\n",
       "      <td>7.120590e+01</td>\n",
       "      <td>8.363173e+00</td>\n",
       "      <td>5.897427e-01</td>\n",
       "      <td>9.928349e+00</td>\n",
       "    </tr>\n",
       "    <tr>\n",
       "      <th>std</th>\n",
       "      <td>9.859832e+05</td>\n",
       "      <td>5.949117e+04</td>\n",
       "      <td>1.752576e+01</td>\n",
       "      <td>2.093882e+00</td>\n",
       "      <td>4.241008e+00</td>\n",
       "      <td>8.970980e+00</td>\n",
       "      <td>3.820727e+01</td>\n",
       "      <td>7.150059e+00</td>\n",
       "      <td>4.918804e-01</td>\n",
       "      <td>6.282933e+00</td>\n",
       "    </tr>\n",
       "    <tr>\n",
       "      <th>min</th>\n",
       "      <td>1.000000e+01</td>\n",
       "      <td>2.000000e+00</td>\n",
       "      <td>1.000000e+00</td>\n",
       "      <td>0.000000e+00</td>\n",
       "      <td>0.000000e+00</td>\n",
       "      <td>0.000000e+00</td>\n",
       "      <td>1.000000e+00</td>\n",
       "      <td>1.000000e+00</td>\n",
       "      <td>0.000000e+00</td>\n",
       "      <td>1.000000e+00</td>\n",
       "    </tr>\n",
       "    <tr>\n",
       "      <th>25%</th>\n",
       "      <td>8.526490e+05</td>\n",
       "      <td>5.158400e+04</td>\n",
       "      <td>5.000000e+00</td>\n",
       "      <td>1.000000e+00</td>\n",
       "      <td>1.000000e+01</td>\n",
       "      <td>5.000000e+00</td>\n",
       "      <td>3.100000e+01</td>\n",
       "      <td>3.000000e+00</td>\n",
       "      <td>0.000000e+00</td>\n",
       "      <td>4.000000e+00</td>\n",
       "    </tr>\n",
       "    <tr>\n",
       "      <th>50%</th>\n",
       "      <td>1.705004e+06</td>\n",
       "      <td>1.026900e+05</td>\n",
       "      <td>1.100000e+01</td>\n",
       "      <td>3.000000e+00</td>\n",
       "      <td>1.300000e+01</td>\n",
       "      <td>8.000000e+00</td>\n",
       "      <td>8.300000e+01</td>\n",
       "      <td>6.000000e+00</td>\n",
       "      <td>1.000000e+00</td>\n",
       "      <td>9.000000e+00</td>\n",
       "    </tr>\n",
       "    <tr>\n",
       "      <th>75%</th>\n",
       "      <td>2.559031e+06</td>\n",
       "      <td>1.546000e+05</td>\n",
       "      <td>2.400000e+01</td>\n",
       "      <td>5.000000e+00</td>\n",
       "      <td>1.600000e+01</td>\n",
       "      <td>1.500000e+01</td>\n",
       "      <td>1.070000e+02</td>\n",
       "      <td>1.100000e+01</td>\n",
       "      <td>1.000000e+00</td>\n",
       "      <td>1.600000e+01</td>\n",
       "    </tr>\n",
       "    <tr>\n",
       "      <th>max</th>\n",
       "      <td>3.421080e+06</td>\n",
       "      <td>2.062090e+05</td>\n",
       "      <td>1.000000e+02</td>\n",
       "      <td>6.000000e+00</td>\n",
       "      <td>2.300000e+01</td>\n",
       "      <td>3.000000e+01</td>\n",
       "      <td>1.340000e+02</td>\n",
       "      <td>1.370000e+02</td>\n",
       "      <td>1.000000e+00</td>\n",
       "      <td>2.100000e+01</td>\n",
       "    </tr>\n",
       "  </tbody>\n",
       "</table>\n",
       "</div>"
      ],
      "text/plain": [
       "           order_id       user_id  order_number     order_dow  \\\n",
       "count  2.019501e+06  2.019501e+06  2.019501e+06  2.019501e+06   \n",
       "mean   1.707013e+06  1.030673e+05  1.715138e+01  2.735367e+00   \n",
       "std    9.859832e+05  5.949117e+04  1.752576e+01  2.093882e+00   \n",
       "min    1.000000e+01  2.000000e+00  1.000000e+00  0.000000e+00   \n",
       "25%    8.526490e+05  5.158400e+04  5.000000e+00  1.000000e+00   \n",
       "50%    1.705004e+06  1.026900e+05  1.100000e+01  3.000000e+00   \n",
       "75%    2.559031e+06  1.546000e+05  2.400000e+01  5.000000e+00   \n",
       "max    3.421080e+06  2.062090e+05  1.000000e+02  6.000000e+00   \n",
       "\n",
       "       order_hour_of_day  days_since_prior_order    product_id  \\\n",
       "count       2.019501e+06            1.895159e+06  2.019501e+06   \n",
       "mean        1.343948e+01            1.138603e+01  7.120590e+01   \n",
       "std         4.241008e+00            8.970980e+00  3.820727e+01   \n",
       "min         0.000000e+00            0.000000e+00  1.000000e+00   \n",
       "25%         1.000000e+01            5.000000e+00  3.100000e+01   \n",
       "50%         1.300000e+01            8.000000e+00  8.300000e+01   \n",
       "75%         1.600000e+01            1.500000e+01  1.070000e+02   \n",
       "max         2.300000e+01            3.000000e+01  1.340000e+02   \n",
       "\n",
       "       add_to_cart_order     reordered  department_id  \n",
       "count       2.019501e+06  2.019501e+06   2.019501e+06  \n",
       "mean        8.363173e+00  5.897427e-01   9.928349e+00  \n",
       "std         7.150059e+00  4.918804e-01   6.282933e+00  \n",
       "min         1.000000e+00  0.000000e+00   1.000000e+00  \n",
       "25%         3.000000e+00  0.000000e+00   4.000000e+00  \n",
       "50%         6.000000e+00  1.000000e+00   9.000000e+00  \n",
       "75%         1.100000e+01  1.000000e+00   1.600000e+01  \n",
       "max         1.370000e+02  1.000000e+00   2.100000e+01  "
      ]
     },
     "execution_count": 6,
     "metadata": {},
     "output_type": "execute_result"
    }
   ],
   "source": [
    "df.describe()"
   ]
  },
  {
   "cell_type": "markdown",
   "id": "607efd2b",
   "metadata": {},
   "source": [
    "# Data Cleaning"
   ]
  },
  {
   "cell_type": "code",
   "execution_count": 7,
   "id": "d3ccee97",
   "metadata": {},
   "outputs": [
    {
     "data": {
      "text/plain": [
       "order_id                       0\n",
       "user_id                        0\n",
       "order_number                   0\n",
       "order_dow                      0\n",
       "order_hour_of_day              0\n",
       "days_since_prior_order    124342\n",
       "product_id                     0\n",
       "add_to_cart_order              0\n",
       "reordered                      0\n",
       "department_id                  0\n",
       "department                     0\n",
       "product_name                   0\n",
       "dtype: int64"
      ]
     },
     "execution_count": 7,
     "metadata": {},
     "output_type": "execute_result"
    }
   ],
   "source": [
    "df.isna().sum()"
   ]
  },
  {
   "cell_type": "code",
   "execution_count": 8,
   "id": "1771bba9",
   "metadata": {},
   "outputs": [
    {
     "data": {
      "text/plain": [
       "0"
      ]
     },
     "execution_count": 8,
     "metadata": {},
     "output_type": "execute_result"
    }
   ],
   "source": [
    "df.duplicated().sum()"
   ]
  },
  {
   "cell_type": "code",
   "execution_count": 9,
   "id": "fe034702",
   "metadata": {},
   "outputs": [
    {
     "data": {
      "text/plain": [
       "order_id                  200000\n",
       "user_id                   105273\n",
       "order_number                 100\n",
       "order_dow                      7\n",
       "order_hour_of_day             24\n",
       "days_since_prior_order        31\n",
       "product_id                   134\n",
       "add_to_cart_order            137\n",
       "reordered                      2\n",
       "department_id                 21\n",
       "department                    21\n",
       "product_name                 134\n",
       "dtype: int64"
      ]
     },
     "execution_count": 9,
     "metadata": {},
     "output_type": "execute_result"
    }
   ],
   "source": [
    "df.nunique()"
   ]
  },
  {
   "cell_type": "code",
   "execution_count": 10,
   "id": "d0834d89",
   "metadata": {},
   "outputs": [],
   "source": [
    "# Taking care of null values\n",
    "df['days_since_prior_order'].fillna(-1,inplace=True)"
   ]
  },
  {
   "cell_type": "code",
   "execution_count": 11,
   "id": "ccd494e5",
   "metadata": {},
   "outputs": [
    {
     "data": {
      "text/plain": [
       "array([-1,  0,  1,  2,  3,  4,  5,  6,  7,  8,  9, 10, 11, 12, 13, 14, 15,\n",
       "       16, 17, 18, 19, 20, 21, 22, 23, 24, 25, 26, 27, 28, 29, 30],\n",
       "      dtype=int64)"
      ]
     },
     "execution_count": 11,
     "metadata": {},
     "output_type": "execute_result"
    }
   ],
   "source": [
    "df['days_since_prior_order']=df['days_since_prior_order'].astype('int64')\n",
    "df['days_since_prior_order'].sort_values().unique()"
   ]
  },
  {
   "cell_type": "markdown",
   "id": "a508675d",
   "metadata": {},
   "source": [
    "# Exploratory Data Analysis (EDA)"
   ]
  },
  {
   "cell_type": "markdown",
   "id": "1fe4aa03",
   "metadata": {},
   "source": [
    "#  Question : The most amount of sales happen at what period of day ??"
   ]
  },
  {
   "cell_type": "code",
   "execution_count": 12,
   "id": "c8c486c8",
   "metadata": {},
   "outputs": [],
   "source": [
    "peak_hours=df.groupby('order_hour_of_day').size().reset_index()"
   ]
  },
  {
   "cell_type": "code",
   "execution_count": 13,
   "id": "74f927f0",
   "metadata": {},
   "outputs": [],
   "source": [
    "condition=[\n",
    "    peak_hours['order_hour_of_day']<6,\n",
    "   ( (peak_hours['order_hour_of_day']>=6) & (peak_hours['order_hour_of_day']<12)),\n",
    "    ( (peak_hours['order_hour_of_day']>=12) & (peak_hours['order_hour_of_day']<18)),\n",
    "    peak_hours['order_hour_of_day']>=18,\n",
    "]\n",
    "value=[\n",
    "    'Night',\n",
    "    'Morning',\n",
    "    'Afternoon',\n",
    "    'Evening',\n",
    "]\n",
    "peak_hours['day_period']=np.select(condition,value,default='NA')"
   ]
  },
  {
   "cell_type": "code",
   "execution_count": 14,
   "id": "7092a2af",
   "metadata": {},
   "outputs": [
    {
     "data": {
      "text/plain": [
       "([<matplotlib.patches.Wedge at 0x1d89ca90940>,\n",
       "  <matplotlib.patches.Wedge at 0x1d89caa80a0>,\n",
       "  <matplotlib.patches.Wedge at 0x1d89caa87c0>,\n",
       "  <matplotlib.patches.Wedge at 0x1d89caa8ee0>],\n",
       " [Text(0.09782856425028649, 1.095641169369209, 'Afternoon'),\n",
       "  Text(-1.0226527550939348, -0.4051929694587318, 'Evening'),\n",
       "  Text(0.4372432616445688, -1.0093653105523388, 'Morning'),\n",
       "  Text(1.0981814263534015, -0.06322621934299515, 'Night')],\n",
       " [Text(0.053361035045610815, 0.5976224560195685, '47.17%'),\n",
       "  Text(-0.5578105936876008, -0.22101434697749003, '17.68%'),\n",
       "  Text(0.23849632453340114, -0.550562896664912, '33.33%'),\n",
       "  Text(0.599008050738219, -0.0344870287325428, '1.83%')])"
      ]
     },
     "execution_count": 14,
     "metadata": {},
     "output_type": "execute_result"
    },
    {
     "data": {
      "image/png": "[encoded data removed]",
      "text/plain": [
       "<Figure size 432x432 with 1 Axes>"
      ]
     },
     "metadata": {},
     "output_type": "display_data"
    }
   ],
   "source": [
    "plt.figure(figsize=(6, 6))\n",
    "peak_dp=peak_hours[[0,'day_period']].groupby('day_period').sum()\n",
    "plt.pie(x=peak_dp[0].values,labels=peak_dp[0].index,autopct=\"%1.2f%%\")"
   ]
  },
  {
   "cell_type": "markdown",
   "id": "a30f75d2",
   "metadata": {},
   "source": [
    "# Observation:\n",
    "\n",
    "1. The most amount of sales happens in the Afternoon.\n",
    "2. The second most amount of sales happens in the Morning.\n",
    "3. The third most amount of sales happens in the evening."
   ]
  },
  {
   "cell_type": "markdown",
   "id": "7fc98295",
   "metadata": {},
   "source": [
    "# Question: Which day accounts for the most amount of sales"
   ]
  },
  {
   "cell_type": "code",
   "execution_count": 15,
   "id": "655c0a51",
   "metadata": {},
   "outputs": [
    {
     "data": {
      "text/plain": [
       "[Text(0, 0, 'Sunday'),\n",
       " Text(1, 0, 'Monday'),\n",
       " Text(2, 0, 'Tuesday'),\n",
       " Text(3, 0, 'Wednesday'),\n",
       " Text(4, 0, 'Thursday'),\n",
       " Text(5, 0, 'Friday'),\n",
       " Text(6, 0, 'Saturday')]"
      ]
     },
     "execution_count": 15,
     "metadata": {},
     "output_type": "execute_result"
    },
    {
     "data": {
      "image/png": "[encoded data removed]",
      "text/plain": [
       "<Figure size 576x432 with 1 Axes>"
      ]
     },
     "metadata": {
      "needs_background": "light"
     },
     "output_type": "display_data"
    }
   ],
   "source": [
    "ax=df.groupby('order_dow').size().plot(kind='bar',color='g',figsize=(8,6))\n",
    "ax.set_xticklabels(['Sunday','Monday','Tuesday','Wednesday','Thursday','Friday','Saturday'])"
   ]
  },
  {
   "cell_type": "markdown",
   "id": "cfe7f1bb",
   "metadata": {},
   "source": [
    "# Observation\n",
    "1. The most amount of sales in a week happens on Sunday.\n",
    "2. The second most amount of sales in a week happens on Monday.\n",
    "3. The third most amount of sales in a week happens on Saturday."
   ]
  },
  {
   "cell_type": "markdown",
   "id": "71499394",
   "metadata": {},
   "source": [
    "# Question: Which products are sold the most ??"
   ]
  },
  {
   "cell_type": "code",
   "execution_count": 16,
   "id": "8c2f800b",
   "metadata": {},
   "outputs": [
    {
     "name": "stderr",
     "output_type": "stream",
     "text": [
      "C:\\Users\\Harsh\\AppData\\Local\\Temp\\ipykernel_12856\\2434192993.py:1: FutureWarning: In a future version of pandas all arguments of Series.sort_values will be keyword-only.\n",
      "  df.groupby('product_name').size().sort_values(0,ascending=False).head(10).plot(kind='barh',color='b',figsize=(8,6))\n"
     ]
    },
    {
     "data": {
      "text/plain": [
       "<AxesSubplot:ylabel='product_name'>"
      ]
     },
     "execution_count": 16,
     "metadata": {},
     "output_type": "execute_result"
    },
    {
     "data": {
      "image/png": "[encoded data removed]",
      "text/plain": [
       "<Figure size 576x432 with 1 Axes>"
      ]
     },
     "metadata": {
      "needs_background": "light"
     },
     "output_type": "display_data"
    }
   ],
   "source": [
    "df.groupby('product_name').size().sort_values(0,ascending=False).head(10).plot(kind='barh',color='b',figsize=(8,6))"
   ]
  },
  {
   "cell_type": "markdown",
   "id": "bfc68050",
   "metadata": {},
   "source": [
    "# Observation\n",
    "\n",
    "#### From this we can say that the supermarket  earns a major part of their income by selling food items.\n",
    "\n",
    "1. Fresh Fruits and Fresh vegetables are the most sold item in the supermarket\n",
    "2. packaged vegetables fruits is the third most sold item in supermarket.\n",
    "3. Most of the sold products are Organic.\n",
    "4. Chips Pretzels is the only Junk food in the most sold items list."
   ]
  },
  {
   "cell_type": "markdown",
   "id": "2827c629",
   "metadata": {},
   "source": [
    "# Question: Which products are sold the least ??"
   ]
  },
  {
   "cell_type": "code",
   "execution_count": 17,
   "id": "dae810fd",
   "metadata": {},
   "outputs": [
    {
     "name": "stderr",
     "output_type": "stream",
     "text": [
      "C:\\Users\\Harsh\\AppData\\Local\\Temp\\ipykernel_12856\\3512232071.py:1: FutureWarning: In a future version of pandas all arguments of Series.sort_values will be keyword-only.\n",
      "  df.groupby('product_name').size().sort_values(0).head(10).plot(kind='barh',color='r',figsize=(8,6))\n"
     ]
    },
    {
     "data": {
      "text/plain": [
       "<AxesSubplot:ylabel='product_name'>"
      ]
     },
     "execution_count": 17,
     "metadata": {},
     "output_type": "execute_result"
    },
    {
     "data": {
      "image/png": "[encoded data removed]",
      "text/plain": [
       "<Figure size 576x432 with 1 Axes>"
      ]
     },
     "metadata": {
      "needs_background": "light"
     },
     "output_type": "display_data"
    }
   ],
   "source": [
    "df.groupby('product_name').size().sort_values(0).head(10).plot(kind='barh',color='r',figsize=(8,6))"
   ]
  },
  {
   "cell_type": "markdown",
   "id": "fbbab76e",
   "metadata": {},
   "source": [
    "# Observation\n",
    "\n",
    "1. Frozen juice and beauty are the least sold item in the supermarket\n",
    "2. baby accessories is the third most sold item in supermarket.\n",
    "3. Most of the least sold products are of gromming or beauty based.\n",
    "4. There are no food items in the least sold products list."
   ]
  },
  {
   "cell_type": "markdown",
   "id": "42cfe956",
   "metadata": {},
   "source": [
    "# Question: Goods from which department is sold the most?"
   ]
  },
  {
   "cell_type": "code",
   "execution_count": 18,
   "id": "e7c0fb14",
   "metadata": {},
   "outputs": [
    {
     "name": "stderr",
     "output_type": "stream",
     "text": [
      "C:\\Users\\Harsh\\AppData\\Local\\Temp\\ipykernel_12856\\3434307967.py:1: FutureWarning: In a future version of pandas all arguments of Series.sort_values will be keyword-only.\n",
      "  df.groupby('department').size().sort_values(0,ascending=False).head(10).plot(kind='barh',color='m',figsize=(8,6))\n"
     ]
    },
    {
     "data": {
      "text/plain": [
       "<AxesSubplot:ylabel='department'>"
      ]
     },
     "execution_count": 18,
     "metadata": {},
     "output_type": "execute_result"
    },
    {
     "data": {
      "image/png": "[encoded data removed]",
      "text/plain": [
       "<Figure size 576x432 with 1 Axes>"
      ]
     },
     "metadata": {
      "needs_background": "light"
     },
     "output_type": "display_data"
    }
   ],
   "source": [
    "df.groupby('department').size().sort_values(0,ascending=False).head(10).plot(kind='barh',color='m',figsize=(8,6))"
   ]
  },
  {
   "cell_type": "markdown",
   "id": "5d958cd7",
   "metadata": {},
   "source": [
    "# Observation\n",
    "1. The most goods were sold from the produce deparment.\n",
    "2. Dairy eggs department has the second most sales."
   ]
  },
  {
   "cell_type": "markdown",
   "id": "b062b84e",
   "metadata": {},
   "source": [
    "# Question: Goods from which department is sold the most?"
   ]
  },
  {
   "cell_type": "code",
   "execution_count": 19,
   "id": "d8d51cc3",
   "metadata": {},
   "outputs": [
    {
     "name": "stderr",
     "output_type": "stream",
     "text": [
      "C:\\Users\\Harsh\\AppData\\Local\\Temp\\ipykernel_12856\\2676921485.py:1: FutureWarning: In a future version of pandas all arguments of Series.sort_values will be keyword-only.\n",
      "  df.groupby('department').size().sort_values(0).head(10).plot(kind='barh',color='grey',figsize=(8,6))\n"
     ]
    },
    {
     "data": {
      "text/plain": [
       "<AxesSubplot:ylabel='department'>"
      ]
     },
     "execution_count": 19,
     "metadata": {},
     "output_type": "execute_result"
    },
    {
     "data": {
      "image/png": "[encoded data removed]",
      "text/plain": [
       "<Figure size 576x432 with 1 Axes>"
      ]
     },
     "metadata": {
      "needs_background": "light"
     },
     "output_type": "display_data"
    }
   ],
   "source": [
    "df.groupby('department').size().sort_values(0).head(10).plot(kind='barh',color='grey',figsize=(8,6))"
   ]
  },
  {
   "cell_type": "markdown",
   "id": "c27a63f2",
   "metadata": {},
   "source": [
    "# Observation\n",
    "\n",
    "1. The least goods were sold from the bulk deparment.\n",
    "2. pets and alcohol department have very low sales."
   ]
  },
  {
   "cell_type": "markdown",
   "id": "81bf0a35",
   "metadata": {},
   "source": [
    "# Question: Which products were most essential to the customers"
   ]
  },
  {
   "cell_type": "code",
   "execution_count": 20,
   "id": "a573df8f",
   "metadata": {},
   "outputs": [
    {
     "name": "stderr",
     "output_type": "stream",
     "text": [
      "C:\\Users\\Harsh\\AppData\\Local\\Temp\\ipykernel_12856\\3440234978.py:1: FutureWarning: In a future version of pandas all arguments of Series.sort_values will be keyword-only.\n",
      "  df[df['add_to_cart_order']<=3].groupby('product_name').size().sort_values(0,ascending=False)\n"
     ]
    },
    {
     "data": {
      "text/plain": [
       "product_name\n",
       "fresh fruits                  77694\n",
       "fresh vegetables              48282\n",
       "packaged vegetables fruits    27572\n",
       "milk                          26659\n",
       "yogurt                        26124\n",
       "                              ...  \n",
       "skin care                       146\n",
       "baby accessories                134\n",
       "baby bath body care             117\n",
       "beauty                          100\n",
       "frozen juice                     67\n",
       "Length: 134, dtype: int64"
      ]
     },
     "execution_count": 20,
     "metadata": {},
     "output_type": "execute_result"
    }
   ],
   "source": [
    "df[df['add_to_cart_order']<=3].groupby('product_name').size().sort_values(0,ascending=False)"
   ]
  },
  {
   "cell_type": "markdown",
   "id": "daae44aa",
   "metadata": {},
   "source": [
    "# Observation\n",
    "\n",
    "#### 134 different products were added to the card before everything else."
   ]
  },
  {
   "cell_type": "code",
   "execution_count": 21,
   "id": "b15c6b1a",
   "metadata": {},
   "outputs": [
    {
     "name": "stderr",
     "output_type": "stream",
     "text": [
      "C:\\Users\\Harsh\\AppData\\Local\\Temp\\ipykernel_12856\\4031544161.py:1: FutureWarning: In a future version of pandas all arguments of Series.sort_values will be keyword-only.\n",
      "  df[df['add_to_cart_order']<=3].groupby('product_name').size().sort_values(0,ascending=False).head(5).plot(kind='pie',autopct='%1.3f%%',figsize=(8,6))\n"
     ]
    },
    {
     "data": {
      "text/plain": [
       "<AxesSubplot:ylabel='None'>"
      ]
     },
     "execution_count": 21,
     "metadata": {},
     "output_type": "execute_result"
    },
    {
     "data": {
      "image/png": "[encoded data removed]",
      "text/plain": [
       "<Figure size 576x432 with 1 Axes>"
      ]
     },
     "metadata": {},
     "output_type": "display_data"
    }
   ],
   "source": [
    "df[df['add_to_cart_order']<=3].groupby('product_name').size().sort_values(0,ascending=False).head(5).plot(kind='pie',autopct='%1.3f%%',figsize=(8,6))"
   ]
  },
  {
   "cell_type": "markdown",
   "id": "5fb96fc7",
   "metadata": {},
   "source": [
    "# Observation\n",
    "\n",
    "\n",
    "These Products were added to the cart before everything else by all the customers, So we can they are essential.\n",
    "\n",
    "Top 5 products added to cart were food items and milk."
   ]
  },
  {
   "cell_type": "markdown",
   "id": "5e801be0",
   "metadata": {},
   "source": [
    "# Question: On Average a user buys how many products ?"
   ]
  },
  {
   "cell_type": "code",
   "execution_count": 22,
   "id": "af8e85cb",
   "metadata": {},
   "outputs": [
    {
     "data": {
      "text/plain": [
       "19.183465845943406"
      ]
     },
     "execution_count": 22,
     "metadata": {},
     "output_type": "execute_result"
    }
   ],
   "source": [
    "df.groupby('user_id').size().mean()"
   ]
  },
  {
   "cell_type": "markdown",
   "id": "60c29f59",
   "metadata": {},
   "source": [
    "# Observation:\n",
    " \n",
    "#### On average a customer buys 19 products."
   ]
  },
  {
   "cell_type": "markdown",
   "id": "ffef2a8a",
   "metadata": {},
   "source": [
    "# Question: Which product was reordered the most amount of times?"
   ]
  },
  {
   "cell_type": "code",
   "execution_count": 23,
   "id": "734200c5",
   "metadata": {
    "scrolled": true
   },
   "outputs": [
    {
     "name": "stderr",
     "output_type": "stream",
     "text": [
      "C:\\Users\\Harsh\\AppData\\Local\\Temp\\ipykernel_12856\\1779640930.py:1: FutureWarning: In a future version of pandas all arguments of Series.sort_values will be keyword-only.\n",
      "  reorder=df[df['reordered']==1].groupby(['product_name','department']).size().sort_values(0,ascending=False).head(10).reset_index()\n"
     ]
    },
    {
     "data": {
      "text/html": [
       "<div>\n",
       "<style scoped>\n",
       "    .dataframe tbody tr th:only-of-type {\n",
       "        vertical-align: middle;\n",
       "    }\n",
       "\n",
       "    .dataframe tbody tr th {\n",
       "        vertical-align: top;\n",
       "    }\n",
       "\n",
       "    .dataframe thead th {\n",
       "        text-align: right;\n",
       "    }\n",
       "</style>\n",
       "<table border=\"1\" class=\"dataframe\">\n",
       "  <thead>\n",
       "    <tr style=\"text-align: right;\">\n",
       "      <th></th>\n",
       "      <th>product_name</th>\n",
       "      <th>department</th>\n",
       "      <th>0</th>\n",
       "    </tr>\n",
       "  </thead>\n",
       "  <tbody>\n",
       "    <tr>\n",
       "      <th>0</th>\n",
       "      <td>fresh fruits</td>\n",
       "      <td>produce</td>\n",
       "      <td>162355</td>\n",
       "    </tr>\n",
       "    <tr>\n",
       "      <th>1</th>\n",
       "      <td>fresh vegetables</td>\n",
       "      <td>produce</td>\n",
       "      <td>126171</td>\n",
       "    </tr>\n",
       "    <tr>\n",
       "      <th>2</th>\n",
       "      <td>packaged vegetables fruits</td>\n",
       "      <td>produce</td>\n",
       "      <td>69872</td>\n",
       "    </tr>\n",
       "    <tr>\n",
       "      <th>3</th>\n",
       "      <td>yogurt</td>\n",
       "      <td>dairy eggs</td>\n",
       "      <td>62464</td>\n",
       "    </tr>\n",
       "    <tr>\n",
       "      <th>4</th>\n",
       "      <td>milk</td>\n",
       "      <td>dairy eggs</td>\n",
       "      <td>43162</td>\n",
       "    </tr>\n",
       "    <tr>\n",
       "      <th>5</th>\n",
       "      <td>water seltzer sparkling water</td>\n",
       "      <td>beverages</td>\n",
       "      <td>38467</td>\n",
       "    </tr>\n",
       "    <tr>\n",
       "      <th>6</th>\n",
       "      <td>packaged cheese</td>\n",
       "      <td>dairy eggs</td>\n",
       "      <td>35864</td>\n",
       "    </tr>\n",
       "    <tr>\n",
       "      <th>7</th>\n",
       "      <td>soy lactosefree</td>\n",
       "      <td>dairy eggs</td>\n",
       "      <td>27251</td>\n",
       "    </tr>\n",
       "    <tr>\n",
       "      <th>8</th>\n",
       "      <td>chips pretzels</td>\n",
       "      <td>snacks</td>\n",
       "      <td>26615</td>\n",
       "    </tr>\n",
       "    <tr>\n",
       "      <th>9</th>\n",
       "      <td>bread</td>\n",
       "      <td>bakery</td>\n",
       "      <td>24540</td>\n",
       "    </tr>\n",
       "  </tbody>\n",
       "</table>\n",
       "</div>"
      ],
      "text/plain": [
       "                    product_name  department       0\n",
       "0                   fresh fruits     produce  162355\n",
       "1               fresh vegetables     produce  126171\n",
       "2     packaged vegetables fruits     produce   69872\n",
       "3                         yogurt  dairy eggs   62464\n",
       "4                           milk  dairy eggs   43162\n",
       "5  water seltzer sparkling water   beverages   38467\n",
       "6                packaged cheese  dairy eggs   35864\n",
       "7                soy lactosefree  dairy eggs   27251\n",
       "8                 chips pretzels      snacks   26615\n",
       "9                          bread      bakery   24540"
      ]
     },
     "execution_count": 23,
     "metadata": {},
     "output_type": "execute_result"
    }
   ],
   "source": [
    "reorder=df[df['reordered']==1].groupby(['product_name','department']).size().sort_values(0,ascending=False).head(10).reset_index()\n",
    "reorder"
   ]
  },
  {
   "cell_type": "markdown",
   "id": "bee5939c",
   "metadata": {},
   "source": [
    "# Observation:\n",
    "\n",
    "1. Fresh fruits were reordered the most amount of times.\n",
    "2. fresh vegetables were the second most reordered product.\n",
    "3. packaged vegetables fruits were the third most reordered product.\n",
    "\n",
    "This top three is same as most ordered items top three."
   ]
  },
  {
   "cell_type": "code",
   "execution_count": 24,
   "id": "9af28f04",
   "metadata": {},
   "outputs": [
    {
     "data": {
      "text/plain": [
       "<AxesSubplot:xlabel='0', ylabel='product_name'>"
      ]
     },
     "execution_count": 24,
     "metadata": {},
     "output_type": "execute_result"
    },
    {
     "data": {
      "image/png": "[encoded data removed]",
      "text/plain": [
       "<Figure size 576x432 with 1 Axes>"
      ]
     },
     "metadata": {
      "needs_background": "light"
     },
     "output_type": "display_data"
    }
   ],
   "source": [
    "plt.figure(figsize=(8, 6))\n",
    "sns.barplot(y='product_name',x=0,data=reorder,hue='department')"
   ]
  },
  {
   "cell_type": "markdown",
   "id": "492ab693",
   "metadata": {},
   "source": [
    "# Observation:\n",
    "\n",
    "#### we can see that the top ten reordered products belong to 5 departments\n",
    "\n",
    "1. The top three products were from produce departments.\n",
    "2. The 4 and 5 most redordered products were from dairy eggs department.\n",
    "3. The products from position 6 to 10 are from four different departments,i.e. dairy eggs,beverages,snacks and backery."
   ]
  },
  {
   "cell_type": "markdown",
   "id": "5fdf8d52",
   "metadata": {},
   "source": [
    "# Question: a user orders how many times?"
   ]
  },
  {
   "cell_type": "code",
   "execution_count": 25,
   "id": "279e3fda",
   "metadata": {},
   "outputs": [
    {
     "data": {
      "text/plain": [
       "<AxesSubplot:ylabel='Frequency'>"
      ]
     },
     "execution_count": 25,
     "metadata": {},
     "output_type": "execute_result"
    },
    {
     "data": {
      "image/png": "[encoded data removed]",
      "text/plain": [
       "<Figure size 576x432 with 1 Axes>"
      ]
     },
     "metadata": {
      "needs_background": "light"
     },
     "output_type": "display_data"
    }
   ],
   "source": [
    "plt.figure(figsize=(8, 6))\n",
    "# plt.xlim(0,10)\n",
    "df.groupby(['order_id','user_id']).size().reset_index().groupby('user_id').size().plot(kind='hist',color='hotpink')"
   ]
  },
  {
   "cell_type": "markdown",
   "id": "56903a0a",
   "metadata": {},
   "source": [
    "# Observation:\n",
    "\n",
    "1. Most of the user order once or twice.\n",
    "2. Close to 12,000 people ordered 3 to 4 times."
   ]
  },
  {
   "cell_type": "markdown",
   "id": "496bdbca",
   "metadata": {},
   "source": [
    "# Question: After what amount of time the users are more likely to reorder?"
   ]
  },
  {
   "cell_type": "code",
   "execution_count": 26,
   "id": "56eace8c",
   "metadata": {},
   "outputs": [
    {
     "data": {
      "text/plain": [
       "<AxesSubplot:xlabel='days_since_prior_order', ylabel='Count'>"
      ]
     },
     "execution_count": 26,
     "metadata": {},
     "output_type": "execute_result"
    },
    {
     "data": {
      "image/png": "[encoded data removed]",
      "text/plain": [
       "<Figure size 1008x432 with 1 Axes>"
      ]
     },
     "metadata": {
      "needs_background": "light"
     },
     "output_type": "display_data"
    }
   ],
   "source": [
    "plt.figure(figsize=(14, 6))\n",
    "order_rate=df[df['days_since_prior_order']!=-1].groupby(['order_id','user_id','days_since_prior_order']).size()\n",
    "sns.histplot(order_rate,x='days_since_prior_order',kde=True)"
   ]
  },
  {
   "cell_type": "markdown",
   "id": "9189f7ce",
   "metadata": {},
   "source": [
    "# Observation:\n",
    "\n",
    "1. The users are more likey to reorder in the first 10 days after they have ordered.\n",
    "2. There is a dip after the 10th day of them ordering and that decline continues till the 29th day.\n",
    "3. At day 30th after the user have  made their last order we see a big spike, The biggest one in all of the thirty days.\n",
    "\n",
    "#### There is a big spike at the 30th day because the monthly supplies(food, water,etc..) of the users are over. They need to restock their monthly supplies."
   ]
  },
  {
   "cell_type": "markdown",
   "id": "c87273dc",
   "metadata": {},
   "source": [
    "# Feature Engineering"
   ]
  },
  {
   "cell_type": "code",
   "execution_count": 27,
   "id": "fde21392",
   "metadata": {},
   "outputs": [
    {
     "data": {
      "text/html": [
       "<div>\n",
       "<style scoped>\n",
       "    .dataframe tbody tr th:only-of-type {\n",
       "        vertical-align: middle;\n",
       "    }\n",
       "\n",
       "    .dataframe tbody tr th {\n",
       "        vertical-align: top;\n",
       "    }\n",
       "\n",
       "    .dataframe thead th {\n",
       "        text-align: right;\n",
       "    }\n",
       "</style>\n",
       "<table border=\"1\" class=\"dataframe\">\n",
       "  <thead>\n",
       "    <tr style=\"text-align: right;\">\n",
       "      <th></th>\n",
       "      <th>order_id</th>\n",
       "      <th>user_id</th>\n",
       "      <th>days_since_prior_order</th>\n",
       "    </tr>\n",
       "  </thead>\n",
       "  <tbody>\n",
       "    <tr>\n",
       "      <th>0</th>\n",
       "      <td>10</td>\n",
       "      <td>135442</td>\n",
       "      <td>8</td>\n",
       "    </tr>\n",
       "    <tr>\n",
       "      <th>1</th>\n",
       "      <td>11</td>\n",
       "      <td>143742</td>\n",
       "      <td>23</td>\n",
       "    </tr>\n",
       "    <tr>\n",
       "      <th>2</th>\n",
       "      <td>28</td>\n",
       "      <td>98256</td>\n",
       "      <td>6</td>\n",
       "    </tr>\n",
       "    <tr>\n",
       "      <th>3</th>\n",
       "      <td>38</td>\n",
       "      <td>42756</td>\n",
       "      <td>24</td>\n",
       "    </tr>\n",
       "    <tr>\n",
       "      <th>4</th>\n",
       "      <td>56</td>\n",
       "      <td>41591</td>\n",
       "      <td>2</td>\n",
       "    </tr>\n",
       "    <tr>\n",
       "      <th>...</th>\n",
       "      <td>...</td>\n",
       "      <td>...</td>\n",
       "      <td>...</td>\n",
       "    </tr>\n",
       "    <tr>\n",
       "      <th>187741</th>\n",
       "      <td>3420991</td>\n",
       "      <td>186459</td>\n",
       "      <td>7</td>\n",
       "    </tr>\n",
       "    <tr>\n",
       "      <th>187742</th>\n",
       "      <td>3421019</td>\n",
       "      <td>47149</td>\n",
       "      <td>3</td>\n",
       "    </tr>\n",
       "    <tr>\n",
       "      <th>187743</th>\n",
       "      <td>3421027</td>\n",
       "      <td>51127</td>\n",
       "      <td>2</td>\n",
       "    </tr>\n",
       "    <tr>\n",
       "      <th>187744</th>\n",
       "      <td>3421074</td>\n",
       "      <td>167185</td>\n",
       "      <td>6</td>\n",
       "    </tr>\n",
       "    <tr>\n",
       "      <th>187745</th>\n",
       "      <td>3421080</td>\n",
       "      <td>52726</td>\n",
       "      <td>2</td>\n",
       "    </tr>\n",
       "  </tbody>\n",
       "</table>\n",
       "<p>187746 rows × 3 columns</p>\n",
       "</div>"
      ],
      "text/plain": [
       "        order_id  user_id  days_since_prior_order\n",
       "0             10   135442                       8\n",
       "1             11   143742                      23\n",
       "2             28    98256                       6\n",
       "3             38    42756                      24\n",
       "4             56    41591                       2\n",
       "...          ...      ...                     ...\n",
       "187741   3420991   186459                       7\n",
       "187742   3421019    47149                       3\n",
       "187743   3421027    51127                       2\n",
       "187744   3421074   167185                       6\n",
       "187745   3421080    52726                       2\n",
       "\n",
       "[187746 rows x 3 columns]"
      ]
     },
     "execution_count": 27,
     "metadata": {},
     "output_type": "execute_result"
    }
   ],
   "source": [
    "clus=df.query('days_since_prior_order!=-1').groupby(['order_id','user_id','days_since_prior_order']).size().reset_index().drop(0,axis=1)\n",
    "clus"
   ]
  },
  {
   "cell_type": "code",
   "execution_count": 28,
   "id": "92892b82",
   "metadata": {},
   "outputs": [],
   "source": [
    "from sklearn.cluster import KMeans\n",
    "from sklearn.metrics import silhouette_score\n",
    "from sklearn.preprocessing import StandardScaler\n",
    " \n",
    "scalar = StandardScaler()\n",
    " \n",
    "# fitting\n",
    "scalar.fit(clus)\n",
    "scaled_data = scalar.transform(clus)\n",
    "from sklearn.decomposition import PCA\n",
    "\n",
    "#define PCA model to use\n",
    "pca = PCA(n_components=2)\n",
    "\n",
    "#fit PCA model to data\n",
    "pca_fit = pca.fit(scaled_data)\n",
    "newdata=pca.transform(scaled_data)"
   ]
  },
  {
   "cell_type": "code",
   "execution_count": 29,
   "id": "9c5a92fa",
   "metadata": {},
   "outputs": [
    {
     "data": {
      "image/png": "[encoded data removed]",
      "text/plain": [
       "<Figure size 432x288 with 1 Axes>"
      ]
     },
     "metadata": {
      "needs_background": "light"
     },
     "output_type": "display_data"
    }
   ],
   "source": [
    "PC_values = np.arange(pca.n_components_) + 1\n",
    "plt.plot(PC_values, pca.explained_variance_ratio_, 'o-', linewidth=2, color='blue')\n",
    "plt.title('Scree Plot')\n",
    "plt.xlabel('Principal Component')\n",
    "plt.ylabel('Variance Explained')\n",
    "plt.show()"
   ]
  },
  {
   "cell_type": "code",
   "execution_count": 30,
   "id": "d618406e",
   "metadata": {},
   "outputs": [
    {
     "name": "stdout",
     "output_type": "stream",
     "text": [
      "[0.33406545 0.3334658 ]\n"
     ]
    }
   ],
   "source": [
    "print(pca_fit.explained_variance_ratio_)"
   ]
  },
  {
   "cell_type": "code",
   "execution_count": 31,
   "id": "afb81eb2",
   "metadata": {},
   "outputs": [
    {
     "data": {
      "text/plain": [
       "array([[ 0.85727954,  0.82127497],\n",
       "       [ 2.12945926,  0.71426372],\n",
       "       [ 0.40298051,  1.26931376],\n",
       "       ...,\n",
       "       [-1.97857296, -0.57852539],\n",
       "       [-0.74111311, -1.97585424],\n",
       "       [-1.96598299, -0.59778768]])"
      ]
     },
     "execution_count": 31,
     "metadata": {},
     "output_type": "execute_result"
    }
   ],
   "source": [
    "newdata"
   ]
  },
  {
   "cell_type": "markdown",
   "id": "b9190453",
   "metadata": {},
   "source": [
    "# Modelling"
   ]
  },
  {
   "cell_type": "code",
   "execution_count": 32,
   "id": "ada7d9b5",
   "metadata": {},
   "outputs": [
    {
     "name": "stderr",
     "output_type": "stream",
     "text": [
      "C:\\Users\\Harsh\\anaconda3\\lib\\site-packages\\sklearn\\cluster\\_kmeans.py:870: FutureWarning: The default value of `n_init` will change from 10 to 'auto' in 1.4. Set the value of `n_init` explicitly to suppress the warning\n",
      "  warnings.warn(\n"
     ]
    },
    {
     "data": {
      "text/plain": [
       "0.3655929466054914"
      ]
     },
     "execution_count": 32,
     "metadata": {},
     "output_type": "execute_result"
    }
   ],
   "source": [
    "kmeans = KMeans(n_clusters=3)\n",
    "preds=kmeans.fit_predict(newdata) \n",
    "score = silhouette_score(newdata,preds,sample_size=30000,random_state=42)\n",
    "score"
   ]
  },
  {
   "cell_type": "code",
   "execution_count": 33,
   "id": "7979973b",
   "metadata": {},
   "outputs": [
    {
     "data": {
      "text/plain": [
       "<matplotlib.collections.PathCollection at 0x1d8ad5a0520>"
      ]
     },
     "execution_count": 33,
     "metadata": {},
     "output_type": "execute_result"
    },
    {
     "data": {
      "image/png": "[encoded data removed]",
      "text/plain": [
       "<Figure size 1008x1008 with 1 Axes>"
      ]
     },
     "metadata": {
      "needs_background": "light"
     },
     "output_type": "display_data"
    }
   ],
   "source": [
    "# from sklearn.cluster import DBSCAN\n",
    "# db=DBSCAN().fit(newdata)\n",
    "# db.labels_\n",
    "plt.figure(figsize =(14, 14))\n",
    "plt.scatter(newdata[:,0],newdata[:,1],c=preds,cmap='viridis')"
   ]
  },
  {
   "cell_type": "code",
   "execution_count": 34,
   "id": "c6cbd647",
   "metadata": {},
   "outputs": [
    {
     "data": {
      "text/plain": [
       "(array([0, 1, 2]), array([56262, 64328, 67156], dtype=int64))"
      ]
     },
     "execution_count": 34,
     "metadata": {},
     "output_type": "execute_result"
    }
   ],
   "source": [
    "np.unique(preds,return_counts=True)"
   ]
  },
  {
   "cell_type": "markdown",
   "id": "6f460eb2",
   "metadata": {},
   "source": [
    "### The data is not seperated into many groups instead it is concentrated in the center, So we cannot put them into clusters."
   ]
  },
  {
   "cell_type": "code",
   "execution_count": 35,
   "id": "cc26df53",
   "metadata": {},
   "outputs": [
    {
     "data": {
      "text/html": [
       "<div>\n",
       "<style scoped>\n",
       "    .dataframe tbody tr th:only-of-type {\n",
       "        vertical-align: middle;\n",
       "    }\n",
       "\n",
       "    .dataframe tbody tr th {\n",
       "        vertical-align: top;\n",
       "    }\n",
       "\n",
       "    .dataframe thead th {\n",
       "        text-align: right;\n",
       "    }\n",
       "</style>\n",
       "<table border=\"1\" class=\"dataframe\">\n",
       "  <thead>\n",
       "    <tr style=\"text-align: right;\">\n",
       "      <th></th>\n",
       "      <th>user_id</th>\n",
       "      <th>0</th>\n",
       "      <th>type_of_consumer</th>\n",
       "    </tr>\n",
       "  </thead>\n",
       "  <tbody>\n",
       "    <tr>\n",
       "      <th>0</th>\n",
       "      <td>2</td>\n",
       "      <td>2</td>\n",
       "      <td>Need-Based Consumers</td>\n",
       "    </tr>\n",
       "    <tr>\n",
       "      <th>1</th>\n",
       "      <td>3</td>\n",
       "      <td>3</td>\n",
       "      <td>Impulsive Consumers</td>\n",
       "    </tr>\n",
       "    <tr>\n",
       "      <th>2</th>\n",
       "      <td>7</td>\n",
       "      <td>1</td>\n",
       "      <td>Need-Based Consumers</td>\n",
       "    </tr>\n",
       "    <tr>\n",
       "      <th>3</th>\n",
       "      <td>10</td>\n",
       "      <td>1</td>\n",
       "      <td>Need-Based Consumers</td>\n",
       "    </tr>\n",
       "    <tr>\n",
       "      <th>4</th>\n",
       "      <td>11</td>\n",
       "      <td>1</td>\n",
       "      <td>Need-Based Consumers</td>\n",
       "    </tr>\n",
       "    <tr>\n",
       "      <th>...</th>\n",
       "      <td>...</td>\n",
       "      <td>...</td>\n",
       "      <td>...</td>\n",
       "    </tr>\n",
       "    <tr>\n",
       "      <th>105268</th>\n",
       "      <td>206204</td>\n",
       "      <td>1</td>\n",
       "      <td>Need-Based Consumers</td>\n",
       "    </tr>\n",
       "    <tr>\n",
       "      <th>105269</th>\n",
       "      <td>206205</td>\n",
       "      <td>1</td>\n",
       "      <td>Need-Based Consumers</td>\n",
       "    </tr>\n",
       "    <tr>\n",
       "      <th>105270</th>\n",
       "      <td>206206</td>\n",
       "      <td>4</td>\n",
       "      <td>Impulsive Consumers</td>\n",
       "    </tr>\n",
       "    <tr>\n",
       "      <th>105271</th>\n",
       "      <td>206208</td>\n",
       "      <td>2</td>\n",
       "      <td>Need-Based Consumers</td>\n",
       "    </tr>\n",
       "    <tr>\n",
       "      <th>105272</th>\n",
       "      <td>206209</td>\n",
       "      <td>3</td>\n",
       "      <td>Impulsive Consumers</td>\n",
       "    </tr>\n",
       "  </tbody>\n",
       "</table>\n",
       "<p>105273 rows × 3 columns</p>\n",
       "</div>"
      ],
      "text/plain": [
       "        user_id  0      type_of_consumer\n",
       "0             2  2  Need-Based Consumers\n",
       "1             3  3   Impulsive Consumers\n",
       "2             7  1  Need-Based Consumers\n",
       "3            10  1  Need-Based Consumers\n",
       "4            11  1  Need-Based Consumers\n",
       "...         ... ..                   ...\n",
       "105268   206204  1  Need-Based Consumers\n",
       "105269   206205  1  Need-Based Consumers\n",
       "105270   206206  4   Impulsive Consumers\n",
       "105271   206208  2  Need-Based Consumers\n",
       "105272   206209  3   Impulsive Consumers\n",
       "\n",
       "[105273 rows x 3 columns]"
      ]
     },
     "execution_count": 35,
     "metadata": {},
     "output_type": "execute_result"
    }
   ],
   "source": [
    "new_df=df.groupby(['order_id','user_id']).size().groupby('user_id').size().reset_index()\n",
    "new_df['type_of_consumer']=np.where(new_df[0]<3,'Need-Based Consumers','Impulsive Consumers')\n",
    "new_df"
   ]
  },
  {
   "cell_type": "code",
   "execution_count": 36,
   "id": "f8f4542f",
   "metadata": {},
   "outputs": [
    {
     "data": {
      "text/plain": [
       "<AxesSubplot:xlabel='type_of_consumer', ylabel='count'>"
      ]
     },
     "execution_count": 36,
     "metadata": {},
     "output_type": "execute_result"
    },
    {
     "data": {
      "image/png": "[encoded data removed]",
      "text/plain": [
       "<Figure size 432x288 with 1 Axes>"
      ]
     },
     "metadata": {
      "needs_background": "light"
     },
     "output_type": "display_data"
    }
   ],
   "source": [
    "sns.countplot(x=new_df['type_of_consumer'])"
   ]
  },
  {
   "cell_type": "markdown",
   "id": "5a917663",
   "metadata": {},
   "source": [
    "# Conclusion:\n",
    "\n",
    "### The Marketing Strategy  I could come up with the given data\n",
    "\n",
    "<b><i>Sales is about solving customers problems<i><b>\n",
    "\n",
    ">We can categorize the consumers into Impulsive and Need-Based and based on that we can give them notification based on their buying behaviour.\n",
    "\n",
    ">If it is a Impulsive buyer then we can give them notifications on a weekly basis and for Need-Based buyers we can give them notification on Half-Monthly or Monthly basis as not to annoy them with notification but to keep them interested and informed of all the offers.\n",
    "\n",
    ">We can futhur categorize the products into Essential and NoN-Essential and then we can give notification to Need-Based consumers when there are offers on Essential products as it majorly stock up on Essential items.\n",
    "\n",
    ">If we want to make the notifications more personalized then we can get the top 5 most bought items by the user and we can show them notification if there are offers on their most needed products."
   ]
  },
  {
   "cell_type": "code",
   "execution_count": null,
   "id": "6e3647b9",
   "metadata": {},
   "outputs": [],
   "source": []
  }
 ],
 "metadata": {
  "kernelspec": {
   "display_name": "Python 3 (ipykernel)",
   "language": "python",
   "name": "python3"
  },
  "language_info": {
   "codemirror_mode": {
    "name": "ipython",
    "version": 3
   },
   "file_extension": ".py",
   "mimetype": "text/x-python",
   "name": "python",
   "nbconvert_exporter": "python",
   "pygments_lexer": "ipython3",
   "version": "3.9.12"
  }
 },
 "nbformat": 4,
 "nbformat_minor": 5
}
